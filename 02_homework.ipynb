{
 "cells": [
  {
   "cell_type": "markdown",
   "metadata": {},
   "source": [
    "# Outline\n",
    "\n",
    "Why this tutorial will be useful:\n",
    "- This tutorial assumes no programing background.\n",
    "- You will learn most computational operations you will use during the course\n",
    "- <font color='green'>You will only need to change the code at positions marked with ```# <- adapt code here```</font>\n",
    "\n",
    "Main purpose of tutorial:\n",
    "- Execute to ensure that your computer is readily set up for the class.\n",
    "- Provide a reference of commands that you will require during the class.\n",
    "\n",
    "Additional purposes of tutorial:\n",
    "- Recapitulate concepts around gene expression by relating them to numbers\n",
    "- Realize that different assumptions (which can all be good and not intrinsically wrong) can shape the results of a computational analysis\n",
    "- Provide templates that you can  copy and modify for your own research (outside and independent of this class)\n",
    "\n",
    "Stages:\n",
    "- Stage 0: Getting the data\n",
    "- Stage 1 How many genes are transcribed in the brain of young adults with an average of at least one transcript molecule per cell?: **loading tables**, **filtering tables**, **functions**, **visualizing distributions**\n",
    "- Stage 2 How many <font color=\"green\">protein-coding genes</font> are transcribed in the brain of young adults with an average of at least one transcript molecule per cell? **extracting patterns from text**, **clean tables**, **combining tables**, **aggregate statistics**\n",
    "- Stage 3 Are genes of the chaperome weakly or strongly transcribed genes, and are some categories of chaperones more transcribed than others?: **importing excel**, **boxplots**, \n",
    "\n",
    "Note:\n",
    "\n",
    "<font color='red'>Can not execute the code</font>, despite having downloaded the code as described in 01_overview and following this tutorial through Anaconda rather than GitHub? We will be available after the lecture on Oct 3rd for ~15min."
   ]
  },
  {
   "cell_type": "markdown",
   "metadata": {},
   "source": [
    "# Stage 0: Getting access to the data"
   ]
  },
  {
   "cell_type": "markdown",
   "metadata": {},
   "source": [
    "<font color=\"red\">You can access data through Box.</font> In you have no access: email thomas.stoeger@northwestern.edu.\n",
    "\n",
    "Box is a file-sharing service of Northwestern, which you may have already used in the past. Depending on the setup of your computer, you will see a web link, from which you can download the data, or already see them as one subfolder on your computer, within your Box foder. Likely it will be called \"chaperome_course_2019\"."
   ]
  },
  {
   "cell_type": "markdown",
   "metadata": {},
   "source": [
    "# Stage 1: How many genes are transcribed in the brain of young adults with an average of at least one transcript molecule per cell?"
   ]
  },
  {
   "cell_type": "markdown",
   "metadata": {},
   "source": [
    "## 1.1. Loading tables\n",
    "\n",
    "To start pandas you will need to execute the following line of code. You can do this by clicking on the code and then pressing the Control key on your keyboard together with Enter the key, or by clicking on \"Cell\" in the top naviation bar and then clicking on \"Run Cells\". \"Cells\" are the grey boxes used to program and execute code."
   ]
  },
  {
   "cell_type": "code",
   "execution_count": null,
   "metadata": {},
   "outputs": [],
   "source": [
    "import pandas as pd"
   ]
  },
  {
   "cell_type": "markdown",
   "metadata": {},
   "source": [
    "Congratulations. If you executed the above code, the square brackets on the left should contain a number.\n",
    "\n",
    "\n",
    "\n",
    "<font color=\"red\">You will need to adjust the following path according to the name you gave to the folder on your computer, and its location. Tip: right click one of the files in the folder and inspect properties to see path.</font>"
   ]
  },
  {
   "cell_type": "code",
   "execution_count": null,
   "metadata": {},
   "outputs": [],
   "source": [
    "human_transcription = pd.read_csv(\n",
    "    filepath_or_buffer='~/Desktop/homework/Human.RPKM.txt',     # <- adapt code here\n",
    "    sep=' '\n",
    ")"
   ]
  },
  {
   "cell_type": "markdown",
   "metadata": {},
   "source": [
    "To peak at the first rows of <code>human_transcription</code> append <code>.head()</code>"
   ]
  },
  {
   "cell_type": "code",
   "execution_count": null,
   "metadata": {},
   "outputs": [],
   "source": [
    "human_transcription.head()"
   ]
  },
  {
   "cell_type": "markdown",
   "metadata": {},
   "source": [
    "<font color=\"green\">What did we just see?</font>\n",
    "- <code>import pandas as pd </code> launches the pandas library and gives it the (arbitrary) name <code>pd</code>. \n",
    "- The content of the file Human.RPKM.txt now is stored in <code>human_transcription</code>\n",
    "- More generally <code>x_left_of_equal_sign = whatever_commmand_right_of_equal sign</code>, will first execute the code right to the equal sign and then hand it over to the thing on the left hand side.\n",
    "- Here the thing on the left hand side of the equal sign is a variable, though you could give it an arbitrary name, it is useful to give it a name that is well readable, such as <code>human_transcription</code>\n",
    "- Functions do function-specific stuff\n",
    "- <code>pd.read_csv()</code> is a function. It reads the text file containing expression values, and makes it available to Python (which essentially is the glue to stick different commands together). <code>sep=' '</code> tells <code>pd.read_csv()</code> that within the specific text file, the values of different columns are separated by space signs\n",
    "- <code>.head()</code> is another function and will show the values of the first few rows. Note that in contrast to <code>pd.read_csv()</code> it is directly applied (by the <code>.</code>) to <code>human_transcription</code>; useful tip: if you want to see all functions available to <code>human_transcription</code>, remove the <code>head</code> and press Shift and Tabulator while the cursor will be blinking at the <code>.</code>"
   ]
  },
  {
   "cell_type": "markdown",
   "metadata": {},
   "source": [
    "## 1.2. Filtering tables\n",
    "\n",
    "To how how many genes are transcribed in the brains of young adults, we first need to select samples corresponding to their brains.\n",
    "\n",
    "The first step for filtering is to define a <code>list</code> of the names of the columns. One way to create a <code>list</code> is by using the opening <code>[</code> and closing <code>]</code> brackets. Note that the names of the columns are placed within <code>'</code> signs. The <code>'</code> will mean that Python will interpret the characters within this notebook as character (and not as a variable)."
   ]
  },
  {
   "cell_type": "code",
   "execution_count": null,
   "metadata": {},
   "outputs": [],
   "source": [
    "columns_of_young_adult_brain = [\n",
    "    'Brain.youngAdult.47',\n",
    "    'Brain.youngAdult.48',\n",
    "    'Brain.youngAdult.49'\n",
    "]"
   ]
  },
  {
   "cell_type": "markdown",
   "metadata": {},
   "source": [
    "The second step for filtering is to to do the actual filtering. The safest way for doing so is to use <code>.loc</code>. \n",
    "- In contrast to functions, <code>.loc</code>uses square brackets (unimportant technical explanation: technically it does not do anything but provides an alternative view/window)\n",
    "- the first position (prior the <code>.</code>) refers to rows of the table\n",
    "- the second position (after the <code>.</code>) refers to columns of the table\n",
    "- <code>:</code> means that all should be considered"
   ]
  },
  {
   "cell_type": "code",
   "execution_count": null,
   "metadata": {},
   "outputs": [],
   "source": [
    "young_brain = human_transcription.loc[:, columns_of_young_adult_brain]"
   ]
  },
  {
   "cell_type": "code",
   "execution_count": null,
   "metadata": {},
   "outputs": [],
   "source": [
    "# Now we can inspect the first rows again; Btw, # marks a comment and will not be read by Python\n",
    "young_brain.head()"
   ]
  },
  {
   "cell_type": "markdown",
   "metadata": {},
   "source": [
    "Now we need some decisions. There are three different samples. How should we combine them? Should we combine them? All of these are difficult and might depend on your science. \n",
    "\n",
    "<font color=\"red\">**HOW DO WE APPROXIMATE THE NUMBER OF GENES TRANSCRIBED TO AT LEAST ONE MOLECULE PER CELL?**</font> \n",
    "    \n",
    "Should we consider any value that is above 0? How many genes are usually expressed, anyways?....\n",
    "\n",
    "To approximate the these questions, we find a good reference in https://www.embopress.org/doi/pdf/10.1038/msb.2011.28 (Hebenstreit et al.)\n",
    "\n",
    "Briefly, there are two classes of genes, lowly expressed genes and highly expressed genes. If counting the number of genes at a given expression value, one should thus see two groups of genes: some have a low expression, others a high one. Curiously, and for reasons which are not fully understood yet - despite other researchs since having reporduced this observation in other cell types - the **lowly transcribed genes tend to have less than one transcript molecule per cell** (suggesting that no protein is actively produced in those cells at a given time point) and **highly transcribed genes tend to have more than one transcript molecule per cell**.\n",
    "\n",
    "While there are different formats to measure transcript abundance, this tutorial uses measurments in the RPKM format, which is the same as Henbstreit et al. did. Details won't matter, but - in essence - this format tries to measure the abundance of the transcripts by normalizing it to a measure of the total amount of transcripts (of all genes). \n",
    "\n",
    "Additionally Hebenstreit et al. transformed the data. Let us transform the data in a way that seems similar to what the autors of the above paper did, and create a single log2 transformed value for given type of sample. To combine samples, this tutorial uses medians, but other options would also be possible. (Can you think of advantages and disadvantages compared to mean?)"
   ]
  },
  {
   "cell_type": "code",
   "execution_count": null,
   "metadata": {},
   "outputs": [],
   "source": [
    "# First, let us import numpy, a library for mathematical operations in python\n",
    "import numpy as np"
   ]
  },
  {
   "cell_type": "code",
   "execution_count": null,
   "metadata": {},
   "outputs": [],
   "source": [
    "# let us create a first own function;\n",
    "def custom_normlization_function(input_values):\n",
    "    intermediate = np.median(input_values)\n",
    "    output_value = np.log2(intermediate)\n",
    "    return output_value"
   ]
  },
  {
   "cell_type": "code",
   "execution_count": null,
   "metadata": {},
   "outputs": [],
   "source": [
    "# apply our function along the columns of the table \n",
    "# For the sake of this tutorial: ignore any warning which you will receive.\n",
    "# The warning tells that we are trying to apply a logarithm to 0 (which mathematically\n",
    "# is undefined in essentially all cases)\n",
    "young_brain = young_brain.apply(\n",
    "    custom_normlization_function, \n",
    "    axis='columns')"
   ]
  },
  {
   "cell_type": "code",
   "execution_count": null,
   "metadata": {},
   "outputs": [],
   "source": [
    "young_brain.head()"
   ]
  },
  {
   "cell_type": "markdown",
   "metadata": {},
   "source": [
    "Note how the output of the above .head() looks different from those above? The reason is that our normalization led to a one-dimensional result."
   ]
  },
  {
   "cell_type": "markdown",
   "metadata": {},
   "source": [
    "## 1.3. Visualizing"
   ]
  },
  {
   "cell_type": "code",
   "execution_count": null,
   "metadata": {},
   "outputs": [],
   "source": [
    "# Load seaborn for visualization\n",
    "import seaborn as sns"
   ]
  },
  {
   "cell_type": "markdown",
   "metadata": {},
   "source": [
    "We could now try to visualize <code>young_brain</code>, but would run into a problem. Some of our data was 0 (no signal detected), and log2 of 0 can be negative infinity or undefined. As such we first need to filter the data. Similar to the <code>.loc</code>, we need to use square brackets again"
   ]
  },
  {
   "cell_type": "code",
   "execution_count": null,
   "metadata": {},
   "outputs": [],
   "source": [
    "measured_young_brain = young_brain[young_brain>-np.inf]"
   ]
  },
  {
   "cell_type": "code",
   "execution_count": null,
   "metadata": {},
   "outputs": [],
   "source": [
    "# Executing this code  %matplotlib inline will likely not be necessary.\n",
    "# However, it also won't hurt. It is a special command of notebooks\n",
    "# to tell them that the output of a visualization should be\n",
    "# shown within the notebook. It will gurantee that you will see the\n",
    "# figures that you will create. (Depending on the setup of your\n",
    "# computer this default way of showing visualizations might differ - \n",
    "# though this is highly unlikely...)\n",
    "%matplotlib inline      "
   ]
  },
  {
   "cell_type": "markdown",
   "metadata": {},
   "source": [
    "Seaborn provides many different visualizations. We will use a distribution plot. During the student course itself, you will find further visualizations at: https://seaborn.pydata.org/examples/index.html ; P.S.: You can always use the SHIFT + TAB trick listed in 1.1. to see all functions (and hence visualizations) provided by Seaborn (and SHIFT + TAB + TAB to see all options of these functions)"
   ]
  },
  {
   "cell_type": "code",
   "execution_count": null,
   "metadata": {},
   "outputs": [],
   "source": [
    "sns.distplot(measured_young_brain)"
   ]
  },
  {
   "cell_type": "markdown",
   "metadata": {},
   "source": [
    "<font color=\"red\">**DOES THIS MAKE SENSE?**</font> \n",
    "    \n",
    "Visit https://www.embopress.org/doi/pdf/10.1038/msb.2011.28, and compare.\n",
    "\n",
    "Answer: It kind of looks similar, but the effect is not as pronounced as in the paper. Perhaps you already have a suspicion....\n",
    "\n",
    "Now let us return to our question of **How many genes are transcribed in the brains of young adults with at least one transcript per cell on average.** \n",
    "\n",
    "If we stick to the assumption that the separation between the two peaks corresponded to the separation of lowly and highly expressed genes, and further assume that also here this boundary corresponds to one molecule per cell, we can define the following (which even corresponds to 1 RPKM unit prior our earlier log2 transformation):"
   ]
  },
  {
   "cell_type": "code",
   "execution_count": null,
   "metadata": {},
   "outputs": [],
   "source": [
    "assumed_expression_level_corresponding_to_one_molecule = 0"
   ]
  },
  {
   "cell_type": "code",
   "execution_count": null,
   "metadata": {},
   "outputs": [],
   "source": [
    "is_above = young_brain > assumed_expression_level_corresponding_to_one_molecule"
   ]
  },
  {
   "cell_type": "code",
   "execution_count": null,
   "metadata": {},
   "outputs": [],
   "source": [
    "young_brain.head()"
   ]
  },
  {
   "cell_type": "code",
   "execution_count": null,
   "metadata": {},
   "outputs": [],
   "source": [
    "is_above.head()"
   ]
  },
  {
   "cell_type": "code",
   "execution_count": null,
   "metadata": {},
   "outputs": [],
   "source": [
    "print(\n",
    "    'Approximately', \n",
    "    np.sum(is_above), \n",
    "    'out of', \n",
    "    len(is_above), \n",
    "    'genes are expressed with an average of one transcript molecule.')"
   ]
  },
  {
   "cell_type": "markdown",
   "metadata": {},
   "source": [
    "# Stage 2 How many <font color=\"green\">protein-coding genes</font> are transcribed in the brain of young adults with an average of at least one transcript molecule per cell?"
   ]
  },
  {
   "cell_type": "markdown",
   "metadata": {},
   "source": [
    "## 2.1. Extracting patterns from text"
   ]
  },
  {
   "cell_type": "markdown",
   "metadata": {},
   "source": [
    "First we need to obtain a list of protein coding genes. Although there exist many databases and bioinformatic tools that could obtain this information, we will here directly use the current defintion of human genes. This definition is maintained and curated by the National Library of Medicine (for this tutorial we already downloaded this main reference of genes from https://ftp.ncbi.nlm.nih.gov/gene/DATA/GENE_INFO/). This is the main American reference that exists for human genes!"
   ]
  },
  {
   "cell_type": "code",
   "execution_count": null,
   "metadata": {},
   "outputs": [],
   "source": [
    "gene_info = pd.read_csv(\n",
    "    '/Users/tstoeger/Desktop/homework/Homo_sapiens.gene_info.gz',      # <- adapt code here\n",
    "    '\\t'   # tabulator is used to separate columns in this file\n",
    ")"
   ]
  },
  {
   "cell_type": "code",
   "execution_count": null,
   "metadata": {},
   "outputs": [],
   "source": [
    "gene_info.head()"
   ]
  },
  {
   "cell_type": "markdown",
   "metadata": {},
   "source": [
    "If you scroll the above table, you will see a lot of information about genes and their fundamental properties. One of the columns is called <code>type_of_gene</code>. It contains the type of the genes."
   ]
  },
  {
   "cell_type": "code",
   "execution_count": null,
   "metadata": {},
   "outputs": [],
   "source": [
    "# Interesting side-query: Which types of genes are defined by the National Library of Medicine?\n",
    "# And: How common are these types?\n",
    "gene_info.loc[:, 'type_of_gene'].value_counts()"
   ]
  },
  {
   "cell_type": "markdown",
   "metadata": {},
   "source": [
    "<font color=\"red\">We have a (manageable) problem</font>\n",
    "- <code>gene_info</code> contains many different identifiers for genes\n",
    "- <code>GeneID</code> looks very different from the ones in the gene expression tables, including <code>young_brain</code>. If you scroll back above, you will see that they seem to start wtih ENSG and have a high numbe, whereas <code>GeneID</code> does not start with ENSG and the numbers are lower\n",
    "- The gene identifiers used in the expression data are Ensembl Gene IDs, whereas the National Library of Medicine uses Entrez Gene IDs\n",
    "- Luckily for us, the National Library of Medicine provides a cross-reference to Ensembl Gene IDs within <code>dbXrefs</code>\n",
    "- Regretfully, the Ensembl Gene ID is stored as part of a larger text. Hence we need to isolate it"
   ]
  },
  {
   "cell_type": "code",
   "execution_count": null,
   "metadata": {},
   "outputs": [],
   "source": [
    "gene_info.loc[:, 'gene_ensembl'] = gene_info.loc[:, 'dbXrefs'].str.extract(\n",
    "    pat='(ENSG[0123456789]+)',\n",
    "    expand=False)"
   ]
  },
  {
   "cell_type": "code",
   "execution_count": null,
   "metadata": {},
   "outputs": [],
   "source": [
    "# Scroll to the last column: What do you see?\n",
    "gene_info.head()"
   ]
  },
  {
   "cell_type": "markdown",
   "metadata": {},
   "source": [
    "<font color=\"green\">What did we just see?</font>\n",
    "- <code>.str.extract()</code> will extract text that fits a certain pattern.\n",
    "- The pattern, <code>pat</code>, is defined as <code>'(ENSG[0123456789]+)'</code>\n",
    "- The pattern is interpreted as a regular expression, a very powerful technique to define patterns, where the details are beyond this course.\n",
    "- <code>'(ENSG[0123456789]+)'</code> translates into: extract everything between <code>()</code>, which starts with the text <code>ENSG</code> followed by a non-zero, but otherwise arbitrary, amount of <code>+</code> the following characters <code>[]</code> that in this case are <code>0123456789</code>\n",
    "- Since there is no column <code>'gene_ensembl'</code> in <code>gene_info</code>, the command <code>gene_info.loc[:, 'gene_ensembl'] </code> will append a new column called <code>'gene_ensembl'</code> at the end"
   ]
  },
  {
   "cell_type": "markdown",
   "metadata": {},
   "source": [
    "## 2.2. Clean tables"
   ]
  },
  {
   "cell_type": "markdown",
   "metadata": {},
   "source": [
    "Now we have \n",
    "- gene identifiers which match expression data\n",
    "- know where we find whether genes are protein codding\n",
    "\n",
    "We will now:\n",
    "- Create a table with unambiguous mapping between Entrez Gene IDs and Ensembl gene IDs\n",
    "- keep information on the gene type\n"
   ]
  },
  {
   "cell_type": "code",
   "execution_count": null,
   "metadata": {},
   "outputs": [],
   "source": [
    "gene_info = gene_info.loc[:, ['GeneID', 'gene_ensembl', 'type_of_gene']]"
   ]
  },
  {
   "cell_type": "code",
   "execution_count": null,
   "metadata": {},
   "outputs": [],
   "source": [
    "gene_info.head()"
   ]
  },
  {
   "cell_type": "markdown",
   "metadata": {},
   "source": [
    "<font color=\"green\"><b>Attention: Calling one column GeneID could be misleading as the other gene_ensembl also carries gene identifiers. </b></font>. \n",
    "    \n",
    "\n",
    "We will hence ensure that the name is consistent. We will use the .rename functions which uses the {} brackets to convey information about the former and new name. Presently it is best to think of those brackets as parts of the language used for pandas (indeed it is part of the Python language, and called a dictionary)."
   ]
  },
  {
   "cell_type": "code",
   "execution_count": null,
   "metadata": {},
   "outputs": [],
   "source": [
    "# calling one column GeneID could be misleading as the other column also carries gene identifiers. Hence rename.\n",
    "gene_info=gene_info.rename(columns={'GeneID': 'gene_entrez'})"
   ]
  },
  {
   "cell_type": "code",
   "execution_count": null,
   "metadata": {},
   "outputs": [],
   "source": [
    "gene_info.head()"
   ]
  },
  {
   "cell_type": "code",
   "execution_count": null,
   "metadata": {},
   "outputs": [],
   "source": [
    "print(\n",
    "    'For', \n",
    "    gene_info['gene_ensembl'].isnull().sum(),\n",
    "    'genes of the National Library there is no gene maintained by Ensembl.')"
   ]
  },
  {
   "cell_type": "markdown",
   "metadata": {},
   "source": [
    "We will try to be convservative, and only keep genes which are listed by the National Library of Medicine, and also have support in the European counterpart, ensembl, and further map in a 1:1 relationship."
   ]
  },
  {
   "cell_type": "code",
   "execution_count": null,
   "metadata": {},
   "outputs": [],
   "source": [
    "gene_info = gene_info.dropna(subset=['gene_ensembl'])"
   ]
  },
  {
   "cell_type": "code",
   "execution_count": null,
   "metadata": {},
   "outputs": [],
   "source": [
    "gene_info['gene_entrez'].value_counts().max()"
   ]
  },
  {
   "cell_type": "code",
   "execution_count": null,
   "metadata": {},
   "outputs": [],
   "source": [
    "gene_info['gene_ensembl'].value_counts().max()   # some Entrez Genes map to multiple ensembl genes"
   ]
  },
  {
   "cell_type": "code",
   "execution_count": null,
   "metadata": {},
   "outputs": [],
   "source": [
    "gene_info = gene_info.drop_duplicates(subset=['gene_ensembl'], keep=False)"
   ]
  },
  {
   "cell_type": "code",
   "execution_count": null,
   "metadata": {},
   "outputs": [],
   "source": [
    "print(\n",
    "    'Only',\n",
    "    gene_info.shape[0], \n",
    "    'genes map unambiguously between the American and European gene references.',\n",
    "    'Did not we encounter many more genes before?'\n",
    ")"
   ]
  },
  {
   "cell_type": "code",
   "execution_count": null,
   "metadata": {},
   "outputs": [],
   "source": [
    "gene_info.head()"
   ]
  },
  {
   "cell_type": "code",
   "execution_count": null,
   "metadata": {},
   "outputs": [],
   "source": [
    "# Interesting side-query - part 2: Now, after cleaning: For which types of genes\n",
    "# is there a good consent in identifiers between America and Europe?\n",
    "gene_info.loc[:, 'type_of_gene'].value_counts()  # Compare this to the above"
   ]
  },
  {
   "cell_type": "markdown",
   "metadata": {},
   "source": [
    "## 2.3. Combining tables\n",
    "\n"
   ]
  },
  {
   "cell_type": "markdown",
   "metadata": {},
   "source": [
    "To answer our question, of how many protein-coding genes are transcribed in the brains of young adults we need to combine two sources of information:\n",
    "- <code>gene_info</code>\n",
    "- <code>young_brain</code>"
   ]
  },
  {
   "cell_type": "code",
   "execution_count": null,
   "metadata": {},
   "outputs": [],
   "source": [
    "young_brain.head()"
   ]
  },
  {
   "cell_type": "markdown",
   "metadata": {},
   "source": [
    "As noticed before, <code>young_brain</code> is no table (as it is one-dimensional). However, we can force it to become a table."
   ]
  },
  {
   "cell_type": "code",
   "execution_count": null,
   "metadata": {},
   "outputs": [],
   "source": [
    "young_brain = young_brain.to_frame('expression_level')"
   ]
  },
  {
   "cell_type": "code",
   "execution_count": null,
   "metadata": {},
   "outputs": [],
   "source": [
    "young_brain.head()"
   ]
  },
  {
   "cell_type": "code",
   "execution_count": null,
   "metadata": {},
   "outputs": [],
   "source": [
    "# give the \"index\" (bold) on left, which contains ensembl gene identifiers,\n",
    "# a proper name for tracability(now no name)\n",
    "young_brain = young_brain.rename_axis(index='gene_ensembl')"
   ]
  },
  {
   "cell_type": "code",
   "execution_count": null,
   "metadata": {},
   "outputs": [],
   "source": [
    "young_brain.head()"
   ]
  },
  {
   "cell_type": "markdown",
   "metadata": {},
   "source": [
    "There are two different ways to combine data in pandas, <code>pd.concat()</code> and <code>pd.merge()</code>. They operate slightly differently. In short  <code>pd.concat()</code> uses \"indices\" (names of rows), whereas <code>pd.merge()</code> uses values of columns. The former is a bit faster, whereas the latter allows a higher level of control, and is generally fast enough for any biological application. Hence we will do the latter, and will need to change <code>young_brain</code> in such a way that the ensembl gene identifiers are no loger rownames, but a separte column. "
   ]
  },
  {
   "cell_type": "code",
   "execution_count": null,
   "metadata": {},
   "outputs": [],
   "source": [
    "young_brain = young_brain.reset_index()"
   ]
  },
  {
   "cell_type": "code",
   "execution_count": null,
   "metadata": {},
   "outputs": [],
   "source": [
    "young_brain.head()"
   ]
  },
  {
   "cell_type": "code",
   "execution_count": null,
   "metadata": {},
   "outputs": [],
   "source": [
    "gene_info.head()"
   ]
  },
  {
   "cell_type": "code",
   "execution_count": null,
   "metadata": {},
   "outputs": [],
   "source": [
    "young_brain = pd.merge(\n",
    "    young_brain,\n",
    "    gene_info,\n",
    "    on='gene_ensembl'\n",
    ")"
   ]
  },
  {
   "cell_type": "code",
   "execution_count": null,
   "metadata": {},
   "outputs": [],
   "source": [
    "young_brain.head()"
   ]
  },
  {
   "cell_type": "markdown",
   "metadata": {},
   "source": [
    "## 2.4. Aggregating"
   ]
  },
  {
   "cell_type": "markdown",
   "metadata": {},
   "source": [
    "To count the number of protein-coding genes, we will first add a new column and then use aggregate statistics of the table. An aggregate statistic is a statistic (e.g.: sum) for all records (here: genes) within one group (e.g.: protein-coding)."
   ]
  },
  {
   "cell_type": "code",
   "execution_count": null,
   "metadata": {},
   "outputs": [],
   "source": [
    "young_brain.loc[:, 'above_one_molecule'] = young_brain.loc[:, 'expression_level'] > assumed_expression_level_corresponding_to_one_molecule"
   ]
  },
  {
   "cell_type": "code",
   "execution_count": null,
   "metadata": {},
   "outputs": [],
   "source": [
    "young_brain.head()"
   ]
  },
  {
   "cell_type": "code",
   "execution_count": null,
   "metadata": {},
   "outputs": [],
   "source": [
    "young_brain.groupby('type_of_gene').agg(np.sum)"
   ]
  },
  {
   "cell_type": "code",
   "execution_count": null,
   "metadata": {},
   "outputs": [],
   "source": [
    "print(\n",
    "    'There are approximately',\n",
    "    young_brain.groupby('type_of_gene').agg(np.sum).loc['protein-coding', 'above_one_molecule'],\n",
    "    'protein-coding genes expressed above one molecule.'\n",
    ")"
   ]
  },
  {
   "cell_type": "code",
   "execution_count": null,
   "metadata": {},
   "outputs": [],
   "source": [
    "young_brain.groupby('type_of_gene').agg(np.mean) # Alternatively check the mean to fration"
   ]
  },
  {
   "cell_type": "code",
   "execution_count": null,
   "metadata": {},
   "outputs": [],
   "source": [
    "# Also, note that the plot, analogous to stage 1, now looks different\n",
    "sns.distplot(\n",
    "    young_brain.loc[\n",
    "        young_brain['expression_level']>-np.inf,\n",
    "        'expression_level'\n",
    "    ]\n",
    ")\n",
    "\n",
    "# The reason is that the merging of the tables only kept data\n",
    "# present in both. You may wonder what this discrepancy tells about gene\n",
    "# annotation, and whether there existed biases in our knowledge\n",
    "# about differnt transcript depending on their expression levels."
   ]
  },
  {
   "cell_type": "markdown",
   "metadata": {},
   "source": [
    "# Stage 3 Are genes of the chaperome weakly or strongly transcribed genes, and are some categories of chaperones more transcribed than others?"
   ]
  },
  {
   "cell_type": "markdown",
   "metadata": {},
   "source": [
    "This last stage. \n",
    "- It will combine and repeat concepts from above.\n",
    "- Comments are minimal. Can you read the code and infer the meaning of specific commands?\n",
    "- You will see code for accessing and working with the chaperome\n",
    "\n",
    "\n",
    "The chaperome is a curated list of proteins involved in protein folding. The excel file, which you will be using corresponds to one of the supplemental tables of https://www.cell.com/cell-reports/fulltext/S2211-1247(14)00825-0 (Brehme et al. 2014: A Chaperome Subnetwork Safeguards Proteostasis in Aging and Neurodegenerative Disease)"
   ]
  },
  {
   "cell_type": "markdown",
   "metadata": {},
   "source": [
    "## 3.1. Loading excel"
   ]
  },
  {
   "cell_type": "code",
   "execution_count": null,
   "metadata": {},
   "outputs": [],
   "source": [
    "brehme = pd.read_excel(\n",
    "    '/Users/tstoeger/Desktop/homework/1-s2.0-S2211124714008250-mmc3.xls',   # <- adapt code here\n",
    "    sheet_name='BREHME_TABLE S2A',\n",
    "    skiprows=8\n",
    ")"
   ]
  },
  {
   "cell_type": "code",
   "execution_count": null,
   "metadata": {},
   "outputs": [],
   "source": [
    "brehme.head()"
   ]
  },
  {
   "cell_type": "markdown",
   "metadata": {},
   "source": [
    "## 3.2. Boxplots"
   ]
  },
  {
   "cell_type": "code",
   "execution_count": null,
   "metadata": {},
   "outputs": [],
   "source": [
    "# make clearer labels of columns\n",
    "brehme = brehme.loc[:, ['Entrez-ID', 'Functional category']].rename(columns={\n",
    "    'Entrez-ID': 'gene_entrez',    # for consistency use same spelling as in above tables,\n",
    "    'Functional category': 'function'   # shorter label for chaperons (note: 'function' is no Python function)\n",
    "})"
   ]
  },
  {
   "cell_type": "code",
   "execution_count": null,
   "metadata": {},
   "outputs": [],
   "source": [
    "gene_info.head()"
   ]
  },
  {
   "cell_type": "code",
   "execution_count": null,
   "metadata": {},
   "outputs": [],
   "source": [
    "brehme = pd.merge(\n",
    "    brehme,\n",
    "    gene_info.loc[:, ['gene_entrez', 'gene_ensembl']]\n",
    ")"
   ]
  },
  {
   "cell_type": "code",
   "execution_count": null,
   "metadata": {},
   "outputs": [],
   "source": [
    "young_brain.head()"
   ]
  },
  {
   "cell_type": "code",
   "execution_count": null,
   "metadata": {},
   "outputs": [],
   "source": [
    "annotated_brain = pd.merge(young_brain, brehme, how='left')"
   ]
  },
  {
   "cell_type": "code",
   "execution_count": null,
   "metadata": {},
   "outputs": [],
   "source": [
    "annotated_brain.loc[:, 'function'] = annotated_brain.loc[:, 'function'].fillna('not chaperome')"
   ]
  },
  {
   "cell_type": "code",
   "execution_count": null,
   "metadata": {},
   "outputs": [],
   "source": [
    "annotated_brain = annotated_brain[annotated_brain['type_of_gene']=='protein-coding']"
   ]
  },
  {
   "cell_type": "code",
   "execution_count": null,
   "metadata": {},
   "outputs": [],
   "source": [
    "annotated_brain.head()"
   ]
  },
  {
   "cell_type": "code",
   "execution_count": null,
   "metadata": {},
   "outputs": [],
   "source": [
    "medians = annotated_brain.groupby('function').agg(np.median).sort_values('expression_level')"
   ]
  },
  {
   "cell_type": "code",
   "execution_count": null,
   "metadata": {},
   "outputs": [],
   "source": [
    "medians"
   ]
  },
  {
   "cell_type": "code",
   "execution_count": null,
   "metadata": {},
   "outputs": [],
   "source": [
    "sns.boxplot(\n",
    "    x='function', \n",
    "    y='expression_level', \n",
    "    data=annotated_brain, \n",
    "    notch=True,\n",
    "    order=medians.index,\n",
    "    color='lightgrey'\n",
    ")"
   ]
  },
  {
   "cell_type": "markdown",
   "metadata": {},
   "source": [
    "Within a boxplot the notches indicate a good approximation of the 95% confidence interval of the median. If they overlap, differences of the median (center line of every box) are generally insignificant. \n",
    "\n",
    "- **Are genes of the chaperome weakly or strongly transcribed genes?**\n",
    "- **Are some categories of chaperones more transcribed than others?**"
   ]
  },
  {
   "cell_type": "markdown",
   "metadata": {},
   "source": [
    "# Further study"
   ]
  },
  {
   "cell_type": "markdown",
   "metadata": {},
   "source": [
    "NUIT has compiled an excellent list of resoruces, https://sites.northwestern.edu/summerworkshops/resources/other-options/ , which also contains a link to Safari Books online - a service through which Northwestern students can access many books about programming for free, and a link to detailed tutorials on Python.\n",
    "\n",
    "If you are very excited about working with data you could join a student group https://sites.northwestern.edu/acids/ or visit the monthly http://data-science-nights.org/\n"
   ]
  },
  {
   "cell_type": "markdown",
   "metadata": {},
   "source": [
    "# Sandbox"
   ]
  },
  {
   "cell_type": "markdown",
   "metadata": {},
   "source": [
    "To write own code, you can use an empty \"Cell\". \"Cells\" are the names of the grey boxes in this jupyter notebook.\n",
    "\n",
    "To make new cells you can click on the menu on the top, and select Insert > Insert Cell Below\n",
    "\n",
    "A shortcut to make \"Cells\" is to press Escape Key to enter Navigation mode, and then press the B key.\n",
    "\n",
    "To see all shortcuts, press Escape Key to Enter Navigation mode, then press the H key (H is Help)."
   ]
  },
  {
   "cell_type": "code",
   "execution_count": null,
   "metadata": {},
   "outputs": [],
   "source": []
  },
  {
   "cell_type": "code",
   "execution_count": null,
   "metadata": {},
   "outputs": [],
   "source": []
  },
  {
   "cell_type": "code",
   "execution_count": null,
   "metadata": {},
   "outputs": [],
   "source": []
  },
  {
   "cell_type": "code",
   "execution_count": null,
   "metadata": {},
   "outputs": [],
   "source": []
  },
  {
   "cell_type": "code",
   "execution_count": null,
   "metadata": {},
   "outputs": [],
   "source": []
  },
  {
   "cell_type": "code",
   "execution_count": null,
   "metadata": {},
   "outputs": [],
   "source": []
  },
  {
   "cell_type": "code",
   "execution_count": null,
   "metadata": {},
   "outputs": [],
   "source": []
  },
  {
   "cell_type": "code",
   "execution_count": null,
   "metadata": {},
   "outputs": [],
   "source": []
  }
 ],
 "metadata": {
  "kernelspec": {
   "display_name": "Python 3",
   "language": "python",
   "name": "python3"
  },
  "language_info": {
   "codemirror_mode": {
    "name": "ipython",
    "version": 3
   },
   "file_extension": ".py",
   "mimetype": "text/x-python",
   "name": "python",
   "nbconvert_exporter": "python",
   "pygments_lexer": "ipython3",
   "version": "3.7.3"
  }
 },
 "nbformat": 4,
 "nbformat_minor": 2
}
