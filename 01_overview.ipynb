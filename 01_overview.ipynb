{
 "cells": [
  {
   "cell_type": "markdown",
   "metadata": {},
   "source": [
    "# Welcome!\n",
    "Congratulations for your first programming steps!\n",
    "\n",
    "<font color=\"green\">The aim of this tutorial is to work with tables</font> - a common research scenario.\n",
    "- You will be able to combine distinct tables (using pandas)\n",
    "- You will be able to visualize your tables (using seaborn)\n",
    "- You will be able to read a versatile programming language (Python)\n",
    "\n",
    "Seaborn and pandas are \"libraries\" of Python. Think of them as books of instructions. If you have them available, you can call these instructions through the Python language to tell the computer how to accomplish very specialized tasks.\n",
    "\n",
    "<font color=\"green\">Structure of the course</font>\n",
    "- Prior course on Oct 3rd: (custom study)\n",
    "    - Download Anaconda\n",
    "    - Follow 02_homework.ipynb"
   ]
  },
  {
   "cell_type": "markdown",
   "metadata": {},
   "source": [
    "# Getting started\n",
    "\n",
    "## Download this tutorial\n",
    "Github, which stores the code for this tutorial, is used (and required by some journals) to exchange computational code. However, you can not execute code on github itself, and editing code on github is difficult. \n",
    "\n",
    "Instead, you will need to download a copy of this code, and store it on your computer. Click the above link, https://github.com/morimotolab/systems_class, and then click on the large green button that says \"Clone or download\" and download the code as a ZIP file to your desktop. In case that after the download you only see a ZIP file on the desktop, rather than a folder containing the individual files of the code of the tutorial, you will need to uncompress the ZIP file. On many computers this will be possible by double-clicking on the ZIP file. This can also be accomplished on the (unix) command line by running: `unzip [filepath]`.\n",
    "\n",
    "\n",
    "## Installing Anaconda\n",
    "You can think of Anaconda as a tool box. While you could also get those tools separately, it is much more convenient to know that the most needed tools will already be present and that they will work together. Anaconda already contains every tool necessary for this tutorial (and many more for scientific computing)\n",
    "- Python\n",
    "- pandas\n",
    "- seaborn\n",
    "\n",
    "Before visiting the download page, be warned: There are two distinct versions of Anaconda, where each contains comparable tools. <font color=\"green\">Download a version for Python 3</font>, <font color=\"red\">do not download a version for Python 2 </font> which is an old dialect of the Python language. With this in mind, go to the following page and download and subsequently install a Python 3 version: https://www.anaconda.com/products/individual  (scroll down)"
   ]
  },
  {
   "cell_type": "markdown",
   "metadata": {},
   "source": [
    "## Starting your work environment\n",
    "- Open Anaconda Navigator (which has just been installed)\n",
    "- Look for \"jupyter notebook\" (and ignore all the other buttons even if they claim to be for science)\n",
    "- Start \"jupyter notebook\" (Click on Launch, or - in case it was absent - Install, which is shown beneath its logo)\n",
    "- Now navigate to 02_homework.ipynb. You might need to click on a separate tab in your browser to see the .ipynb files you had download. Alternatively, close the browser and start Anaconda again\n",
    "- This can also be accomplished on the (unix) command line by running `jupyter notebook` in the desired directory."
   ]
  },
  {
   "cell_type": "code",
   "execution_count": null,
   "metadata": {},
   "outputs": [],
   "source": []
  }
 ],
 "metadata": {
  "kernelspec": {
   "display_name": "Python 3",
   "language": "python",
   "name": "python3"
  },
  "language_info": {
   "codemirror_mode": {
    "name": "ipython",
    "version": 3
   },
   "file_extension": ".py",
   "mimetype": "text/x-python",
   "name": "python",
   "nbconvert_exporter": "python",
   "pygments_lexer": "ipython3",
   "version": "3.7.3"
  }
 },
 "nbformat": 4,
 "nbformat_minor": 2
}
